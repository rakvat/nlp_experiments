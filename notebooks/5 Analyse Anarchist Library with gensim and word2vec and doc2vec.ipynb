{
 "cells": [
  {
   "cell_type": "markdown",
   "metadata": {},
   "source": [
    "## Get Data"
   ]
  },
  {
   "cell_type": "code",
   "execution_count": 8,
   "metadata": {},
   "outputs": [],
   "source": [
    "import glob\n",
    "\n",
    "list_of_files = glob.glob('/home/rakvat/mydev/nlp_experiments/scrape_anarchist_library/en/*.txt') \n",
    "documents = {}\n",
    "for filename in list_of_files:\n",
    "    content = []\n",
    "    f = open(filename, 'r')\n",
    "    for line in f:\n",
    "        content.append(line)\n",
    "    f.close()\n",
    "    documents[filename.split('/')[-1]] = content"
   ]
  },
  {
   "cell_type": "markdown",
   "metadata": {},
   "source": [
    "## Preprocess"
   ]
  },
  {
   "cell_type": "code",
   "execution_count": 44,
   "metadata": {},
   "outputs": [
    {
     "name": "stdout",
     "output_type": "stream",
     "text": [
      "done: 3087\n"
     ]
    }
   ],
   "source": [
    "import re # regex\n",
    "import nltk\n",
    "from nltk.corpus import stopwords\n",
    "import nltk.data\n",
    "\n",
    "data = []\n",
    "for key, value in documents.items():\n",
    "    document = {}\n",
    "    first_line_without_meta = 0\n",
    "    for i, line in enumerate(value[:15]):\n",
    "        if line.startswith('#author'):\n",
    "            document['author'] = line[8:-1]\n",
    "        if line.startswith('#title'):\n",
    "            document['title'] = line[7:-1]\n",
    "        if line.startswith('#date'):\n",
    "            match = re.search('(\\d\\d\\d\\d)', line[6:-1])\n",
    "            if match:\n",
    "                document['year'] = match.group(0)\n",
    "        if first_line_without_meta == 0 and line[0] != '#':\n",
    "            first_line_without_meta = i\n",
    "    document['text'] = ''.join(value[first_line_without_meta:])\n",
    "    document['text_len'] = len(document['text'])\n",
    "    document['file'] = key\n",
    "    \n",
    "    data.append(document)\n",
    "print('done: {}'.format(len(data)))"
   ]
  },
  {
   "cell_type": "code",
   "execution_count": 3,
   "metadata": {},
   "outputs": [
    {
     "name": "stdout",
     "output_type": "stream",
     "text": [
      "[['there', 'are', 'some', 'ominous', 'disturbances', 'of', 'special', 'moment', 'in', 'the', 'labor', 'world'], ['at', 'new', 'orleans', 'the', 'street-car', 'men', 'are', 'engaged', 'in', 'a', 'desperate', 'struggle', 'and', 'according', 'to', 'the', 'capitalistic', 'press', 'some', 'rioting', 'has', 'occurred', 'the', 'strikers', 'it', 'is', 'said', 'having', 'fired', 'on', 'the', 'police'], ['the', 'granite', 'cutter', 'union', 'has', 'been', 'locked', 'out', 'by', 'the', 'bosses', 'union', 'who', 'are', 'engaged', 'in', 'an', 'effort', 'to', 'compel', 'the', 'cutters', 'to', 'change', 'the', 'time', 'of', 'signing', 'the', 'yearly', 'contract', 'from', 'january', 'to', 'january', 'instead', 'of', 'as', 'heretofore', 'from', 'may', 'to', 'may'], ['the', 'men', 'claim', 'that', 'this', 'would', 'give', 'the', 'bosses', 'an', 'increased', 'advantage', 'over', 'them', 'because', 'in', 'january', 'most', 'of', 'the', 'members', 'are', 'idle', 'and', 'would', 'be', 'compelled', 'to', 'make', 'terms', 'that', 'they', 'would', 'not', 'in', 'may'], ['in', 'several', 'mining', 'districts', 'in', 'idaho', 'and', 'wyoming', 'there', 'is', 'a', 'general', 'rebellion', 'and', 'president', 'harrison', 'has', 'been', 'requested', 'to', 'hold', 'the', 'united', 'states', 'army', 'in', 'readiness', 'to', 'assist', 'the', 'mine-owners', 'in', 'subjugating', 'their', 'wage-slaves'], ['it', 'also', 'seems', 'that', 'the', 'all-wise', 'and', 'all-merciful', 'god', 'is', 'adding', 'his', 'quota', 'to', 'the', 'sum', 'of', 'human', 'wretchedness', 'for', 'he', 'is', 'having', 'the', 'windows', 'of', 'heaven', 'all', 'thrown', 'open', 'and', 'pouring', 'down', 'floods', 'upon', 'the', 'bowed', 'heads', 'of', 'his', 'most', 'devout', 'worshipers—the', 'negroes', 'of', 'the', 'south', 'and', 'the', 'farmers', 'of', 'the', 'west—in', 'the', 'most', 'awful', 'devastation', 'and', 'death', ''], ['what', 'with', 'floods', 'famine', 'lockouts', 'strikes', 'and', 'the', 'unemployed', 'millions', 'can', 'we', 'expect', 'of', 'the', 'near', 'future'], ['the', 'contemplation', 'of', 'the', 'misery', 'in', 'store', 'for', 'the', 'farming', 'and', 'wage', 'classes', 'next', 'winter', 'is', 'simply', 'appalling', ''], ['yet', 'this', 'need', 'not', 'be', 'if', 'the', 'produce', 'of', 'these', 'producers', 'had', 'not', 'in', 'former', 'years', 'passed', 'from', 'their', 'hands', 'and', 'gone', 'to', 'fill', 'the', 'elevators', 'of', 'speculating', 'board', 'of', 'trade', 'pirates', 'and', 'the', 'land', 'belonged', 'to', 'actual', 'settlers', 'and', 'not', 'as', 'now', 'to', 'mortgage', 'sharks', 'and', 'the', 'wages', 'of', 'the', 'wage-earners', 'had', 'remained', 'in', 'their', 'possession', 'there', 'would', 'always', 'remain', 'wealth', 'enough', 'among', 'the', 'people', 'to', 'tide', 'them', 'over', 'any', 'unforeseen', 'calamity'], ['when', 'will', 'the', 'people', 'see', 'the', 'real', 'cause', 'of', 'all', 'their', 'woe—the', 'private', 'ownership', 'of', 'the', 'means', 'of', 'life']]\n"
     ]
    }
   ],
   "source": [
    "stopwords = ['em', '/em', '/quote', '*****', '****', '***', '**', \"''\", '``', 'br', '/strong', \"\\'s\", \"n\\'t\", '--', \n",
    "     'p.','<', '>', '?', '.', '“', '/sup', '”', '—', ',', '’', 't', 're', 's', 'll',':', '‘', 'i', '...', ';', \n",
    "     '(', ')', '[', ']']\n",
    "\n",
    "texts = [t for t in map(lambda x: x['text'], data)]\n",
    "\n",
    "document_sentences_lists = []\n",
    "tokenizer = nltk.data.load('tokenizers/punkt/english.pickle')\n",
    "\n",
    "for text in texts:\n",
    "    sentences = tokenizer.tokenize(text)\n",
    "    text_sentences = []\n",
    "    for sentence in sentences:\n",
    "        words = nltk.word_tokenize(sentence)\n",
    "        words = [word.lower() for word in words]\n",
    "        words = [word for word in words if word not in stopwords]\n",
    "        words = [re.sub(r'\\.$|\\?$|!$', '', x) for x in words]\n",
    "        text_sentences.append(words)\n",
    "    document_sentences_lists.append(text_sentences)\n",
    "\n",
    "print(document_sentences_lists[3][0:20])"
   ]
  },
  {
   "cell_type": "markdown",
   "metadata": {},
   "source": [
    "## Word2Vec"
   ]
  },
  {
   "cell_type": "code",
   "execution_count": 4,
   "metadata": {},
   "outputs": [],
   "source": [
    "from gensim.models import Word2Vec\n",
    "all_sentences = [sentence for ds in document_sentences_lists for sentence in ds]\n",
    "word_2_vec_model = Word2Vec(sentences=all_sentences, size=100, window=5, min_count=5, workers=4, sg=0)"
   ]
  },
  {
   "cell_type": "code",
   "execution_count": 6,
   "metadata": {},
   "outputs": [],
   "source": [
    "fname = '../data/word2vec_model'\n",
    "word_2_vec_model.save(fname)\n",
    "word_2_vec_model = Word2Vec.load(fname)"
   ]
  },
  {
   "cell_type": "code",
   "execution_count": 7,
   "metadata": {},
   "outputs": [
    {
     "data": {
      "text/plain": [
       "[('anarchism', 0.6377719044685364),\n",
       " ('communism', 0.6196501851081848),\n",
       " ('utopia', 0.6009454727172852),\n",
       " ('communalism', 0.5833500027656555),\n",
       " ('primitivism', 0.5831833481788635),\n",
       " ('nihilism', 0.5738281011581421),\n",
       " ('leftism', 0.5688527226448059),\n",
       " ('statism', 0.5470791459083557),\n",
       " ('socialism', 0.5416628122329712),\n",
       " ('chaos', 0.534917950630188)]"
      ]
     },
     "execution_count": 7,
     "metadata": {},
     "output_type": "execute_result"
    }
   ],
   "source": [
    "word_2_vec_model.wv.most_similar(\"anarchy\")"
   ]
  },
  {
   "cell_type": "code",
   "execution_count": 8,
   "metadata": {},
   "outputs": [
    {
     "data": {
      "text/plain": [
       "[('cooperation', 0.6655155420303345),\n",
       " ('self-determination', 0.6019327044487),\n",
       " ('co-operation', 0.5778247117996216),\n",
       " ('fraternity', 0.5762279033660889),\n",
       " ('equality', 0.5739743709564209),\n",
       " ('friendship', 0.5731697082519531),\n",
       " ('freedom', 0.5689136981964111),\n",
       " ('liberty', 0.556557834148407),\n",
       " ('association', 0.550492525100708),\n",
       " ('independence', 0.546848475933075)]"
      ]
     },
     "execution_count": 8,
     "metadata": {},
     "output_type": "execute_result"
    }
   ],
   "source": [
    "word_2_vec_model.wv.most_similar(positive=['anarchy', 'peace', 'solidarity'], negative=['chaos'])"
   ]
  },
  {
   "cell_type": "code",
   "execution_count": 9,
   "metadata": {},
   "outputs": [
    {
     "data": {
      "text/plain": [
       "[('cooperation', 0.6891627311706543),\n",
       " ('self-determination', 0.649440586566925),\n",
       " ('association', 0.6177771091461182),\n",
       " ('fraternity', 0.6167409420013428),\n",
       " ('friendship', 0.6160852909088135),\n",
       " ('co-operation', 0.615831732749939),\n",
       " ('equality', 0.6143702268600464),\n",
       " ('freedom', 0.6077560782432556),\n",
       " ('independence', 0.6059341430664062),\n",
       " ('liberty', 0.604721188545227)]"
      ]
     },
     "execution_count": 9,
     "metadata": {},
     "output_type": "execute_result"
    }
   ],
   "source": [
    "word_2_vec_model.wv.most_similar_cosmul(positive=['anarchy', 'peace', 'solidarity'], negative=['chaos'])"
   ]
  },
  {
   "cell_type": "code",
   "execution_count": 10,
   "metadata": {},
   "outputs": [
    {
     "data": {
      "text/plain": [
       "[('cooperation', 0.699571430683136),\n",
       " ('co-operation', 0.6575556993484497),\n",
       " ('organization', 0.6111617088317871),\n",
       " ('coordination', 0.6032154560089111),\n",
       " ('adjustment', 0.5998144149780273),\n",
       " ('interdependence', 0.5972313284873962),\n",
       " ('relationships', 0.5946120619773865),\n",
       " ('organisation', 0.5903456807136536),\n",
       " ('environment', 0.586973249912262),\n",
       " ('co-ordination', 0.5867806673049927)]"
      ]
     },
     "execution_count": 10,
     "metadata": {},
     "output_type": "execute_result"
    }
   ],
   "source": [
    "word_2_vec_model.wv.most_similar_cosmul(positive=['economy', 'planning', 'solidarity'], negative=['central'])"
   ]
  },
  {
   "cell_type": "code",
   "execution_count": 11,
   "metadata": {},
   "outputs": [
    {
     "data": {
      "text/plain": [
       "0.35113674120785815"
      ]
     },
     "execution_count": 11,
     "metadata": {},
     "output_type": "execute_result"
    }
   ],
   "source": [
    "word_2_vec_model.wv.similarity('war', 'peace')"
   ]
  },
  {
   "cell_type": "code",
   "execution_count": 13,
   "metadata": {},
   "outputs": [
    {
     "ename": "KeyError",
     "evalue": "\"word 'computer-simulation' not in vocabulary\"",
     "output_type": "error",
     "traceback": [
      "\u001b[0;31m---------------------------------------------------------------------------\u001b[0m",
      "\u001b[0;31mKeyError\u001b[0m                                  Traceback (most recent call last)",
      "\u001b[0;32m<ipython-input-13-db305a44e217>\u001b[0m in \u001b[0;36m<module>\u001b[0;34m()\u001b[0m\n\u001b[1;32m      1\u001b[0m \u001b[0;31m# this does not work because this word is not found. But it can be done with FastText (see below)\u001b[0m\u001b[0;34m\u001b[0m\u001b[0;34m\u001b[0m\u001b[0m\n\u001b[0;32m----> 2\u001b[0;31m \u001b[0mword_2_vec_model\u001b[0m\u001b[0;34m.\u001b[0m\u001b[0mwv\u001b[0m\u001b[0;34m.\u001b[0m\u001b[0mmost_similar\u001b[0m\u001b[0;34m(\u001b[0m\u001b[0;34m'computer-simulation'\u001b[0m\u001b[0;34m)\u001b[0m\u001b[0;34m\u001b[0m\u001b[0m\n\u001b[0m",
      "\u001b[0;32m~/miniconda3/envs/recommender2/lib/python3.6/site-packages/gensim/models/keyedvectors.py\u001b[0m in \u001b[0;36mmost_similar\u001b[0;34m(self, positive, negative, topn, restrict_vocab, indexer)\u001b[0m\n\u001b[1;32m    363\u001b[0m                 \u001b[0mmean\u001b[0m\u001b[0;34m.\u001b[0m\u001b[0mappend\u001b[0m\u001b[0;34m(\u001b[0m\u001b[0mweight\u001b[0m \u001b[0;34m*\u001b[0m \u001b[0mword\u001b[0m\u001b[0;34m)\u001b[0m\u001b[0;34m\u001b[0m\u001b[0m\n\u001b[1;32m    364\u001b[0m             \u001b[0;32melse\u001b[0m\u001b[0;34m:\u001b[0m\u001b[0;34m\u001b[0m\u001b[0m\n\u001b[0;32m--> 365\u001b[0;31m                 \u001b[0mmean\u001b[0m\u001b[0;34m.\u001b[0m\u001b[0mappend\u001b[0m\u001b[0;34m(\u001b[0m\u001b[0mweight\u001b[0m \u001b[0;34m*\u001b[0m \u001b[0mself\u001b[0m\u001b[0;34m.\u001b[0m\u001b[0mword_vec\u001b[0m\u001b[0;34m(\u001b[0m\u001b[0mword\u001b[0m\u001b[0;34m,\u001b[0m \u001b[0muse_norm\u001b[0m\u001b[0;34m=\u001b[0m\u001b[0;32mTrue\u001b[0m\u001b[0;34m)\u001b[0m\u001b[0;34m)\u001b[0m\u001b[0;34m\u001b[0m\u001b[0m\n\u001b[0m\u001b[1;32m    366\u001b[0m                 \u001b[0;32mif\u001b[0m \u001b[0mword\u001b[0m \u001b[0;32min\u001b[0m \u001b[0mself\u001b[0m\u001b[0;34m.\u001b[0m\u001b[0mvocab\u001b[0m\u001b[0;34m:\u001b[0m\u001b[0;34m\u001b[0m\u001b[0m\n\u001b[1;32m    367\u001b[0m                     \u001b[0mall_words\u001b[0m\u001b[0;34m.\u001b[0m\u001b[0madd\u001b[0m\u001b[0;34m(\u001b[0m\u001b[0mself\u001b[0m\u001b[0;34m.\u001b[0m\u001b[0mvocab\u001b[0m\u001b[0;34m[\u001b[0m\u001b[0mword\u001b[0m\u001b[0;34m]\u001b[0m\u001b[0;34m.\u001b[0m\u001b[0mindex\u001b[0m\u001b[0;34m)\u001b[0m\u001b[0;34m\u001b[0m\u001b[0m\n",
      "\u001b[0;32m~/miniconda3/envs/recommender2/lib/python3.6/site-packages/gensim/models/keyedvectors.py\u001b[0m in \u001b[0;36mword_vec\u001b[0;34m(self, word, use_norm)\u001b[0m\n\u001b[1;32m    272\u001b[0m             \u001b[0;32mreturn\u001b[0m \u001b[0mresult\u001b[0m\u001b[0;34m\u001b[0m\u001b[0m\n\u001b[1;32m    273\u001b[0m         \u001b[0;32melse\u001b[0m\u001b[0;34m:\u001b[0m\u001b[0;34m\u001b[0m\u001b[0m\n\u001b[0;32m--> 274\u001b[0;31m             \u001b[0;32mraise\u001b[0m \u001b[0mKeyError\u001b[0m\u001b[0;34m(\u001b[0m\u001b[0;34m\"word '%s' not in vocabulary\"\u001b[0m \u001b[0;34m%\u001b[0m \u001b[0mword\u001b[0m\u001b[0;34m)\u001b[0m\u001b[0;34m\u001b[0m\u001b[0m\n\u001b[0m\u001b[1;32m    275\u001b[0m \u001b[0;34m\u001b[0m\u001b[0m\n\u001b[1;32m    276\u001b[0m     \u001b[0;32mdef\u001b[0m \u001b[0mget_vector\u001b[0m\u001b[0;34m(\u001b[0m\u001b[0mself\u001b[0m\u001b[0;34m,\u001b[0m \u001b[0mword\u001b[0m\u001b[0;34m)\u001b[0m\u001b[0;34m:\u001b[0m\u001b[0;34m\u001b[0m\u001b[0m\n",
      "\u001b[0;31mKeyError\u001b[0m: \"word 'computer-simulation' not in vocabulary\""
     ]
    }
   ],
   "source": [
    "# this does not work because this word is not found. But it can be done with FastText (see below)\n",
    "word_2_vec_model.wv.most_similar('computer-simulation')"
   ]
  },
  {
   "cell_type": "code",
   "execution_count": 14,
   "metadata": {},
   "outputs": [],
   "source": [
    "from gensim.models import FastText\n",
    "fast_text_model = FastText(all_sentences, size=100, window=5, min_count=5, workers=4,sg=1)"
   ]
  },
  {
   "cell_type": "code",
   "execution_count": 15,
   "metadata": {},
   "outputs": [
    {
     "data": {
      "text/plain": [
       "[('computerization', 0.8969423174858093),\n",
       " ('simulation', 0.8511350750923157),\n",
       " ('supercomputer', 0.8509286642074585),\n",
       " ('computerisation', 0.8417525291442871),\n",
       " ('computer', 0.8244168758392334),\n",
       " ('compute', 0.8173179626464844),\n",
       " ('computation', 0.8066041469573975),\n",
       " ('computer-based', 0.797387421131134),\n",
       " ('cybernetic', 0.7847089171409607),\n",
       " ('simulations', 0.7744627594947815)]"
      ]
     },
     "execution_count": 15,
     "metadata": {},
     "output_type": "execute_result"
    }
   ],
   "source": [
    "fast_text_model.wv.most_similar('computer-simulation')"
   ]
  },
  {
   "cell_type": "markdown",
   "metadata": {},
   "source": [
    "## Doc2Vec"
   ]
  },
  {
   "cell_type": "code",
   "execution_count": 2,
   "metadata": {},
   "outputs": [],
   "source": [
    "from gensim.models import Doc2Vec\n",
    "from gensim.models.doc2vec import TaggedDocument"
   ]
  },
  {
   "cell_type": "code",
   "execution_count": 16,
   "metadata": {},
   "outputs": [],
   "source": [
    "document_words_list = []\n",
    "for document_sentences in document_sentences_lists:\n",
    "    document_words_list.append([word for sentence in document_sentences for word in sentence])\n",
    "epochs = 100\n",
    "documents = [TaggedDocument(document_words_list[index], [doc['file']]) for index, doc in enumerate(data)]"
   ]
  },
  {
   "cell_type": "code",
   "execution_count": 17,
   "metadata": {},
   "outputs": [],
   "source": [
    "doc_2_vec_model = Doc2Vec(vector_size=300, window=8, min_count=5, workers=8, epochs=epochs)\n",
    "doc_2_vec_model.build_vocab(documents)\n",
    "doc_2_vec_model.train(documents, total_examples=doc_2_vec_model.corpus_count, epochs=epochs)"
   ]
  },
  {
   "cell_type": "code",
   "execution_count": 3,
   "metadata": {},
   "outputs": [],
   "source": [
    "fname = '../data/doc2vec_model'\n",
    "# doc_2_vec_model.save(fname)\n",
    "doc_2_vec_model = Doc2Vec.load(fname)  # you can continue training with the loaded model!"
   ]
  },
  {
   "cell_type": "code",
   "execution_count": 4,
   "metadata": {},
   "outputs": [
    {
     "data": {
      "text/plain": [
       "[('anarchism', 0.47327348589897156),\n",
       " ('wildness', 0.32441815733909607),\n",
       " ('anarchist', 0.29785212874412537),\n",
       " ('freedom', 0.2870025634765625),\n",
       " ('chaos', 0.2846091091632843),\n",
       " ('liberty', 0.27407899498939514),\n",
       " ('fascism', 0.2703554332256317),\n",
       " ('1999–2000', 0.2646511197090149),\n",
       " ('kahn', 0.2616986036300659),\n",
       " ('prikaz', 0.25502756237983704)]"
      ]
     },
     "execution_count": 4,
     "metadata": {},
     "output_type": "execute_result"
    }
   ],
   "source": [
    "doc_2_vec_model.wv.most_similar('anarchy')"
   ]
  },
  {
   "cell_type": "code",
   "execution_count": 20,
   "metadata": {},
   "outputs": [
    {
     "data": {
      "text/plain": [
       "[('n1x-hello-from-the-wired.muse.txt', 0.32593950629234314),\n",
       " ('tiqqun-the-cybernetic-hypothesis.muse.txt', 0.3247065246105194),\n",
       " ('eli-maybell-limitations-of-leftism.muse.txt', 0.30816972255706787),\n",
       " ('david-watson-saturn-and-scientism.muse.txt', 0.30261483788490295),\n",
       " ('paul-rabin-computers-and-anarchism.muse.txt', 0.30069079995155334),\n",
       " ('lawrence-jarach-on-the-radical-virtues-of-being-left-alone-deconstructing-staudenmaier.muse.txt',\n",
       "  0.2957090139389038),\n",
       " ('janet-biehl-theses-on-social-ecology-and-deep-ecology.muse.txt',\n",
       "  0.2954569458961487),\n",
       " ('ted-kaczynski-answer-to-some-comments-made-in-green-anarchist.muse.txt',\n",
       "  0.2953936755657196),\n",
       " ('john-brinker-mix-ted-kaczynski-with-lsd-do-you-get-the-unabomber.muse.txt',\n",
       "  0.2926965355873108),\n",
       " ('savage-state-why-you-shouldn-t-call-the-police-pigs.muse.txt',\n",
       "  0.2860642373561859)]"
      ]
     },
     "execution_count": 20,
     "metadata": {},
     "output_type": "execute_result"
    }
   ],
   "source": [
    "tokens = 'cybernetics'.split()\n",
    "new_vector = doc_2_vec_model.infer_vector(tokens)\n",
    "sims = doc_2_vec_model.docvecs.most_similar([new_vector])\n",
    "sims"
   ]
  },
  {
   "cell_type": "markdown",
   "metadata": {},
   "source": [
    "## Visualization"
   ]
  },
  {
   "cell_type": "code",
   "execution_count": 5,
   "metadata": {},
   "outputs": [],
   "source": [
    "import plotly.plotly as py\n",
    "import plotly.graph_objs as go\n",
    "from sklearn.decomposition import PCA\n",
    "%matplotlib inline\n",
    "import numpy as np\n",
    "import matplotlib.pyplot as plt"
   ]
  },
  {
   "cell_type": "code",
   "execution_count": 22,
   "metadata": {},
   "outputs": [
    {
     "data": {
      "text/plain": [
       "(300,)"
      ]
     },
     "execution_count": 22,
     "metadata": {},
     "output_type": "execute_result"
    }
   ],
   "source": [
    "doc_2_vec_model.docvecs[0].shape"
   ]
  },
  {
   "cell_type": "code",
   "execution_count": 45,
   "metadata": {},
   "outputs": [
    {
     "data": {
      "text/plain": [
       "3087"
      ]
     },
     "execution_count": 45,
     "metadata": {},
     "output_type": "execute_result"
    }
   ],
   "source": [
    "len(data)"
   ]
  },
  {
   "cell_type": "code",
   "execution_count": 10,
   "metadata": {},
   "outputs": [
    {
     "data": {
      "text/plain": [
       "3087"
      ]
     },
     "execution_count": 10,
     "metadata": {},
     "output_type": "execute_result"
    }
   ],
   "source": [
    "l = list(map(lambda x: doc_2_vec_model.docvecs[x], range(0,len(data))))\n",
    "len(l)"
   ]
  },
  {
   "cell_type": "code",
   "execution_count": 11,
   "metadata": {},
   "outputs": [],
   "source": [
    "X = np.concatenate(l).reshape((len(l), 300))"
   ]
  },
  {
   "cell_type": "code",
   "execution_count": 12,
   "metadata": {},
   "outputs": [
    {
     "name": "stdout",
     "output_type": "stream",
     "text": [
      "(3087, 2)\n"
     ]
    }
   ],
   "source": [
    "pca = PCA(2)  # project from 64 to 2 dimensions\n",
    "projected = pca.fit_transform(X)\n",
    "print(projected.shape)"
   ]
  },
  {
   "cell_type": "code",
   "execution_count": 13,
   "metadata": {},
   "outputs": [
    {
     "data": {
      "text/plain": [
       "Text(0,0.5,'component 2')"
      ]
     },
     "execution_count": 13,
     "metadata": {},
     "output_type": "execute_result"
    },
    {
     "data": {
      "image/png": "[encoded data removed]",
      "text/plain": [
       "<Figure size 432x288 with 1 Axes>"
      ]
     },
     "metadata": {},
     "output_type": "display_data"
    }
   ],
   "source": [
    "plt.scatter(projected[:, 0], projected[:, 1],\n",
    "            alpha=0.5)\n",
    "plt.xlabel('component 1')\n",
    "plt.ylabel('component 2')"
   ]
  },
  {
   "cell_type": "code",
   "execution_count": 39,
   "metadata": {},
   "outputs": [
    {
     "data": {
      "text/plain": [
       "'yves-coleman-french-banlieues-and-urban-guerrillas.muse.txt'"
      ]
     },
     "execution_count": 39,
     "metadata": {},
     "output_type": "execute_result"
    }
   ],
   "source": [
    "from plotly.offline import download_plotlyjs, init_notebook_mode, plot, iplot\n",
    "import plotly.graph_objs as go\n",
    "\n",
    "labels = list(map(lambda x: data[x]['file'], range(0, len(data))))\n",
    "labels[0]"
   ]
  },
  {
   "cell_type": "code",
   "execution_count": 46,
   "metadata": {},
   "outputs": [
    {
     "name": "stdout",
     "output_type": "stream",
     "text": [
      "3087\n",
      "3087\n"
     ]
    },
    {
     "data": {
      "text/plain": [
       "'rgb(250, 10, 80)'"
      ]
     },
     "execution_count": 46,
     "metadata": {},
     "output_type": "execute_result"
    }
   ],
   "source": [
    "texts_to_watch = [\n",
    "    'economics-of-freedom.muse.txt', # (very detailed, also on planning, 2003)\n",
    "    'paul-buckermann-on-socialist-cybernetics.muse.txt', # (constructive ciritcism of cybernetics)\n",
    "    'gaston-leval-libertarian-socialism-a-practical-outline.muse.txt', # (description of production and distribution, 1959)\n",
    "    'diego-abad-de-santillan-after-the-revolution.muse.txt', # (description of councils and organization, 1937)\n",
    "    'james-guillaume-ideas-on-social-organization.muse.txt', # (details on distribution, production, 1876)\n",
    "    'ilan-shalif-glimpses-into-the-year-2100-50-years-after-the-revoution.muse.txt', # (utopian fiction)\n",
    "    'peter-gelderloos-anarchy-works.muse.txt', # (answers on how A works; gelderloos: insurrectionalis, anti-non-violence)\n",
    "    'anarcho-anarchist-economics.muse.txt', # (not very detailed)\n",
    "    'josh-kolbo-a-simulated-future-amid-collapse.muse.txt', # (environmental problems, simulation could help(? difficult text))\n",
    "    'kevin-carson-2017-and-killer-apps-for-the-transition.muse.txt', # (open source, no details)\n",
    "    'philip-richlin-the-socioeconomic-guardians-of-scarcity.muse.txt', # (critisism of capitalism, state and scarcity)\n",
    "    'meir-turniansky-kibbutz-samar.muse.txt', # (short, do what you want kibbutz)\n",
    "    'tiqqun-the-cybernetic-hypothesis.muse.txt', # (insurrectionalis, technology rejection)\n",
    "    'david-watson-saturn-and-scientism.muse.txt', # (primitivisim)\n",
    "    'paul-rabin-computers-and-anarchism.muse.txt', # (primitivism)\n",
    "]\n",
    "\n",
    "colors = []\n",
    "for d in data:\n",
    "    if d['file'] in texts_to_watch:\n",
    "        colors.append('rgb(0, 200, 80)')\n",
    "    else:\n",
    "        colors.append('rgb(250, 10, 80)')\n",
    "print(len(colors))\n",
    "print(len(labels))\n",
    "colors[0]"
   ]
  },
  {
   "cell_type": "code",
   "execution_count": 47,
   "metadata": {},
   "outputs": [
    {
     "data": {
      "text/plain": [
       "'file:///home/rakvat/mydev/nlp_experiments/data/pca_plot.html'"
      ]
     },
     "execution_count": 47,
     "metadata": {},
     "output_type": "execute_result"
    }
   ],
   "source": [
    "trace = go.Scatter(\n",
    "    x = projected[:,0],\n",
    "    y = projected[:,1],\n",
    "    mode = 'markers',\n",
    "    marker = dict(\n",
    "        size = 14,\n",
    "        line = dict(width=1),\n",
    "        color = colors,\n",
    "        opacity= 0.3\n",
    "    ),\n",
    "    text = labels \n",
    ")\n",
    "\n",
    "all_data = [trace]\n",
    "plot(all_data, filename='../data/pca_plot.html')"
   ]
  },
  {
   "cell_type": "code",
   "execution_count": null,
   "metadata": {},
   "outputs": [],
   "source": []
  }
 ],
 "metadata": {
  "kernelspec": {
   "display_name": "Python [default]",
   "language": "python",
   "name": "python3"
  },
  "language_info": {
   "codemirror_mode": {
    "name": "ipython",
    "version": 3
   },
   "file_extension": ".py",
   "mimetype": "text/x-python",
   "name": "python",
   "nbconvert_exporter": "python",
   "pygments_lexer": "ipython3",
   "version": "3.6.4"
  }
 },
 "nbformat": 4,
 "nbformat_minor": 2
}
